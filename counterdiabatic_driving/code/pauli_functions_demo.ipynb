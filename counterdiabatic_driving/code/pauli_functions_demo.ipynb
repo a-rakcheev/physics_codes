{
 "cells": [
  {
   "cell_type": "code",
   "execution_count": 1,
   "metadata": {},
   "outputs": [],
   "source": [
    "# Demonstrate basic functionality for Pauli Strings and Operators\n",
    "\n",
    "import numpy as np\n",
    "import matplotlib.pyplot as plt\n",
    "import pauli_string_functions as pauli_func"
   ]
  },
  {
   "cell_type": "code",
   "execution_count": 2,
   "metadata": {},
   "outputs": [],
   "source": [
    "# System Size\n",
    "L = 5"
   ]
  },
  {
   "cell_type": "code",
   "execution_count": 3,
   "metadata": {},
   "outputs": [
    {
     "name": "stdout",
     "output_type": "stream",
     "text": [
      "[0 0 0 0 0]\n",
      "[1 1 1 1 1]\n",
      "[2 2 2 2 2]\n",
      "[3 3 3 3 3]\n"
     ]
    }
   ],
   "source": [
    "# single strings are represented by numpy arrays with 1 byte integers (np.int8) of lenght L\n",
    "# the integers encode the Pauli operators on the site 1, X, Y, Z <=> 0, 1, 2, 3\n",
    "\n",
    "# here we create strings filled with the same operators\n",
    "id_string = np.zeros(L, dtype=np.int8)\n",
    "x_string = np.ones(L, dtype=np.int8)\n",
    "y_string = np.full(L, 2, dtype=np.int8)\n",
    "z_string = np.full(L, 3, dtype=np.int8)\n",
    "\n",
    "print(id_string)\n",
    "print(x_string)\n",
    "print(y_string)\n",
    "print(z_string)"
   ]
  },
  {
   "cell_type": "code",
   "execution_count": 4,
   "metadata": {},
   "outputs": [
    {
     "name": "stdout",
     "output_type": "stream",
     "text": [
      "(array([3, 3, 3, 3, 3], dtype=int8), 1j)\n",
      "(array([3, 3, 3, 3, 3], dtype=int8), 2j)\n",
      "(array([3, 3, 3, 3, 3], dtype=int8), (-0-1j))\n",
      "(array([3, 3, 3, 3, 3], dtype=int8), (-0-2j))\n"
     ]
    }
   ],
   "source": [
    "# the strings weighted by complex sclars can be multiplied or commuted with each other,\n",
    "# which returns the correct labels and coefficient of the product\n",
    "\n",
    "# here we multiply and commute the x and y strings (each weighted by a factor 1.0) with each other\n",
    "print(pauli_func.multiply_pauli_strings(x_string, y_string, 1.0, 1.0))\n",
    "print(pauli_func.commute_pauli_strings(x_string, y_string, 1.0, 1.0))\n",
    "\n",
    "# and now we exchage the strings to check that the operations are not-commutative\n",
    "print(pauli_func.multiply_pauli_strings(y_string, x_string, 1.0, 1.0))\n",
    "print(pauli_func.commute_pauli_strings(y_string, x_string, 1.0, 1.0))"
   ]
  },
  {
   "cell_type": "code",
   "execution_count": null,
   "metadata": {},
   "outputs": [],
   "source": [
    "# Operators are sums of Paulis Strings with complex coefficients (real coefficients for hermitian operators but we only implement the general case)\n"
   ]
  }
 ],
 "metadata": {
  "@webio": {
   "lastCommId": null,
   "lastKernelId": null
  },
  "kernelspec": {
   "display_name": "Python 3",
   "language": "python",
   "name": "python3"
  },
  "language_info": {
   "codemirror_mode": {
    "name": "ipython",
    "version": 3
   },
   "file_extension": ".py",
   "mimetype": "text/x-python",
   "name": "python",
   "nbconvert_exporter": "python",
   "pygments_lexer": "ipython3",
   "version": "3.7.9"
  }
 },
 "nbformat": 4,
 "nbformat_minor": 4
}
